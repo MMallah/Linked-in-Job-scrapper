{
 "cells": [
  {
   "cell_type": "markdown",
   "id": "acting-train",
   "metadata": {},
   "source": [
    "# Project Data Science Desired Skills\n",
    "\n",
    "this project will Answer the question of what are the most desired skills for Data Science in Egypt and UAE.\n",
    "* Extract data from Linked in Via webscrapping or Manually.\n",
    "* Perform data wrangling ( image recognition or NLP).\n",
    "* Segment the the job market based on skills.\n",
    "* Analyze the skill growth over time."
   ]
  },
  {
   "cell_type": "code",
   "execution_count": 3,
   "id": "particular-angel",
   "metadata": {},
   "outputs": [],
   "source": [
    "#import needed libraries\n",
    "\n",
    "from selenium import webdriver\n",
    "from selenium.webdriver.common.by import By\n",
    "import pandas as pd\n",
    "from scrapy import selector\n",
    "import time\n",
    "import operator\n",
    "from functools import reduce\n",
    "import dateparser\n",
    "import numpy as np\n",
    "import matplotlib.pyplot as plt\n",
    "\n",
    "import re\n",
    "import string\n",
    "from collections import Counter\n",
    "import spacy\n",
    "from spacy.vocab import Vocab\n",
    "from spacy.tokenizer import Tokenizer\n",
    "import en_core_web_sm\n",
    "from nltk.stem import PorterStemmer\n",
    "\n",
    "from bs4 import BeautifulSoup"
   ]
  },
  {
   "cell_type": "markdown",
   "id": "stupid-transfer",
   "metadata": {},
   "source": [
    "## step 1 Importing Data\n"
   ]
  },
  {
   "cell_type": "markdown",
   "id": "photographic-services",
   "metadata": {},
   "source": [
    "#### Selenium driver for chrome"
   ]
  },
  {
   "cell_type": "code",
   "execution_count": 4,
   "id": "chubby-butterfly",
   "metadata": {},
   "outputs": [],
   "source": [
    "# instantiate a webdriver\n",
    "driver = webdriver.Chrome('C:\\\\Users\\\\mosta\\\\Downloads\\\\chromedriver.exe')"
   ]
  },
  {
   "cell_type": "code",
   "execution_count": 5,
   "id": "tropical-genome",
   "metadata": {},
   "outputs": [],
   "source": [
    "# user search keywards and location\n",
    "#job, loc= input(\"please enter the desired job and location:\").split()\n",
    "#url= 'https://www.linkedin.com/jobs/search/?geoId=106155005&keywords={}&location={}'"
   ]
  },
  {
   "cell_type": "code",
   "execution_count": 6,
   "id": "conventional-vacuum",
   "metadata": {},
   "outputs": [],
   "source": [
    "# use chrome to get the desired url\n",
    "driver.get('https://www.linkedin.com/jobs/search/?geoId=106155005&keywords=data%20scientist&location=Egypt')"
   ]
  },
  {
   "cell_type": "code",
   "execution_count": 7,
   "id": "dated-ensemble",
   "metadata": {},
   "outputs": [],
   "source": [
    "# the job card container(link for job)\n",
    "#full_card_link= driver.find_elements_by_class_name(\"result-card__full-card-link\")\n",
    "full_card_link= driver.find_elements_by_class_name(\"base-card__full-link\")"
   ]
  },
  {
   "cell_type": "code",
   "execution_count": 8,
   "id": "massive-portable",
   "metadata": {},
   "outputs": [
    {
     "data": {
      "text/plain": [
       "24"
      ]
     },
     "execution_count": 8,
     "metadata": {},
     "output_type": "execute_result"
    }
   ],
   "source": [
    "# view the Selenium elment count\n",
    "len(full_card_link)"
   ]
  },
  {
   "cell_type": "code",
   "execution_count": 9,
   "id": "piano-inquiry",
   "metadata": {},
   "outputs": [],
   "source": [
    "# extract Href from full card link\n",
    "link_list=[]\n",
    "for element in full_card_link:\n",
    "    link_list.append(element.get_attribute('href'))"
   ]
  },
  {
   "cell_type": "code",
   "execution_count": 10,
   "id": "saved-symphony",
   "metadata": {},
   "outputs": [],
   "source": [
    "# create list place holder for data\n",
    "job_title=[]\n",
    "company=[]\n",
    "location=[]\n",
    "posting_date=[]\n",
    "applicants_count=[]\n",
    "job_description=[]\n",
    "skill_set=[]\n",
    "job_seniority_level=[]\n",
    "employment_type=[]\n",
    "industry=[]\n",
    "job_function=[]"
   ]
  },
  {
   "cell_type": "code",
   "execution_count": 11,
   "id": "multiple-packing",
   "metadata": {},
   "outputs": [],
   "source": [
    "# create a function to iterate over job links\n",
    "\n",
    "def get_job(links):\n",
    "    ''' function to import the required data (10 specifications) from the search url'''\n",
    "    for link in range(len(links)):\n",
    "        driver.get(links[link])\n",
    "        job_title.append(driver.find_element_by_class_name(\"topcard__title\").text)\n",
    "        company.append(driver.find_element_by_class_name('topcard__flavor').text)\n",
    "        location.append(driver.find_element_by_xpath('/html/body/main/section[1]/section[2]/div/div[1]/div/h4/div[1]/span[2]').text)\n",
    "        posting_date.append(driver.find_element_by_xpath('/html/body/main/section[1]/section[2]/div/div[1]/div/h4/div[2]/span[1]').text)\n",
    "        try:\n",
    "            applicants_count.append(driver.find_element_by_xpath('//*[@id=\"main-content\"]/section[1]/section[2]/div[1]/div[1]/h3[2]/span[2]').text)\n",
    "        except:\n",
    "            applicants_count.append('')\n",
    "        job_description.append(driver.find_element_by_xpath('//*[@id=\"main-content\"]/section[1]/section[3]/div/section/div').text)\n",
    "        try:\n",
    "            job_seniority_level.append(driver.find_element_by_xpath('//*[@id=\"main-content\"]/section[1]/section[3]/ul/li[1]/span').text)\n",
    "        except:\n",
    "            job_seniority_level.append('')\n",
    "        try:\n",
    "            employment_type.append(driver.find_element_by_xpath('/html/body/main/section[1]/section[3]/ul/li[2]/span').text)\n",
    "        except:\n",
    "            employment_type.append('')            \n",
    "        try:\n",
    "            industry.append(driver.find_element_by_xpath('//*[@id=\"main-content\"]/section[1]/section[3]/ul/li[4]/span').text)\n",
    "        except:\n",
    "            industry.append('')\n",
    "        try:\n",
    "            job_function.append(reduce(operator.concat, [(e.text+ \", \") for e in driver.find_elements_by_xpath('//*[@id=\"main-content\"]/section[1]/section[3]/ul/li[3]/span')]))\n",
    "        except:\n",
    "            job_function.append('')\n",
    "        try:\n",
    "            skill_set.append(reduce(operator.concat, [(e.get_attribute('innerHTML')) for e in driver.find_element_by_xpath('//*[@id=\"main-content\"]/section[1]/section[3]/div/section/div').find_elements_by_tag_name(\"li\")]))\n",
    "        except:\n",
    "            skill_set.append('')\n",
    "        time.sleep(15)\n"
   ]
  },
  {
   "cell_type": "code",
   "execution_count": 12,
   "id": "ideal-embassy",
   "metadata": {
    "scrolled": true
   },
   "outputs": [],
   "source": [
    "#use the function to import the data\n",
    "get_job(link_list)"
   ]
  },
  {
   "cell_type": "code",
   "execution_count": 13,
   "id": "checked-jacob",
   "metadata": {},
   "outputs": [],
   "source": [
    "# convert lists acqquired to a dataframe\n",
    "data= pd.DataFrame(list(zip(job_title, company, location, posting_date, applicants_count, job_description, skill_set, job_seniority_level,\n",
    "                            employment_type, industry, job_function)),\n",
    "                   columns=['job_title', 'company', 'location', 'posting_date', 'applicants_count', 'job_description', 'skill_set','job_seniority_level',\n",
    "                            'employment_type', 'industry', 'job_function'])"
   ]
  },
  {
   "cell_type": "code",
   "execution_count": 14,
   "id": "fleet-spice",
   "metadata": {
    "scrolled": false
   },
   "outputs": [
    {
     "name": "stdout",
     "output_type": "stream",
     "text": [
      "<class 'pandas.core.frame.DataFrame'>\n",
      "RangeIndex: 24 entries, 0 to 23\n",
      "Data columns (total 11 columns):\n",
      " #   Column               Non-Null Count  Dtype \n",
      "---  ------               --------------  ----- \n",
      " 0   job_title            24 non-null     object\n",
      " 1   company              24 non-null     object\n",
      " 2   location             24 non-null     object\n",
      " 3   posting_date         24 non-null     object\n",
      " 4   applicants_count     24 non-null     object\n",
      " 5   job_description      24 non-null     object\n",
      " 6   skill_set            24 non-null     object\n",
      " 7   job_seniority_level  24 non-null     object\n",
      " 8   employment_type      24 non-null     object\n",
      " 9   industry             24 non-null     object\n",
      " 10  job_function         24 non-null     object\n",
      "dtypes: object(11)\n",
      "memory usage: 2.2+ KB\n"
     ]
    }
   ],
   "source": [
    "# inspect the dataframe\n",
    "data.info()"
   ]
  },
  {
   "cell_type": "code",
   "execution_count": 15,
   "id": "dependent-manhattan",
   "metadata": {
    "scrolled": false
   },
   "outputs": [
    {
     "data": {
      "text/html": [
       "<div>\n",
       "<style scoped>\n",
       "    .dataframe tbody tr th:only-of-type {\n",
       "        vertical-align: middle;\n",
       "    }\n",
       "\n",
       "    .dataframe tbody tr th {\n",
       "        vertical-align: top;\n",
       "    }\n",
       "\n",
       "    .dataframe thead th {\n",
       "        text-align: right;\n",
       "    }\n",
       "</style>\n",
       "<table border=\"1\" class=\"dataframe\">\n",
       "  <thead>\n",
       "    <tr style=\"text-align: right;\">\n",
       "      <th></th>\n",
       "      <th>job_title</th>\n",
       "      <th>company</th>\n",
       "      <th>location</th>\n",
       "      <th>posting_date</th>\n",
       "      <th>applicants_count</th>\n",
       "      <th>job_description</th>\n",
       "      <th>skill_set</th>\n",
       "      <th>job_seniority_level</th>\n",
       "      <th>employment_type</th>\n",
       "      <th>industry</th>\n",
       "      <th>job_function</th>\n",
       "    </tr>\n",
       "  </thead>\n",
       "  <tbody>\n",
       "    <tr>\n",
       "      <th>0</th>\n",
       "      <td>Insights Data Scientist</td>\n",
       "      <td>Dell Technologies</td>\n",
       "      <td>Cairo, Cairo, Egypt</td>\n",
       "      <td>1 month ago</td>\n",
       "      <td></td>\n",
       "      <td>Data Scientist\\n\\nThe Office of the CTO at Del...</td>\n",
       "      <td>Perform all the phases of a data science proje...</td>\n",
       "      <td>Not Applicable</td>\n",
       "      <td>Full-time</td>\n",
       "      <td>Computer Hardware, Computer Software, and Info...</td>\n",
       "      <td>Information Technology and Engineering,</td>\n",
       "    </tr>\n",
       "    <tr>\n",
       "      <th>1</th>\n",
       "      <td>Data Office Data Scientist</td>\n",
       "      <td>Dell Technologies</td>\n",
       "      <td>Cairo, Cairo, Egypt</td>\n",
       "      <td>1 month ago</td>\n",
       "      <td></td>\n",
       "      <td>Data Scientist\\n\\nThe Office of the CTO at Del...</td>\n",
       "      <td>Perform all the phases of a data science proje...</td>\n",
       "      <td>Not Applicable</td>\n",
       "      <td>Full-time</td>\n",
       "      <td>Computer Hardware, Computer Software, and Info...</td>\n",
       "      <td>Information Technology and Engineering,</td>\n",
       "    </tr>\n",
       "    <tr>\n",
       "      <th>2</th>\n",
       "      <td>Consumer Credit Data Scientist - Jumia Pay (Fu...</td>\n",
       "      <td>Jumia Group</td>\n",
       "      <td>Cairo, Cairo, Egypt</td>\n",
       "      <td>3 days ago</td>\n",
       "      <td></td>\n",
       "      <td>Jumia is a leading e-commerce platform in Afri...</td>\n",
       "      <td>Credit Default Risk Prediction  Consumer Scor...</td>\n",
       "      <td>Entry level</td>\n",
       "      <td>Full-time</td>\n",
       "      <td>Information Technology and Services, Internet,...</td>\n",
       "      <td>Engineering and Information Technology,</td>\n",
       "    </tr>\n",
       "    <tr>\n",
       "      <th>3</th>\n",
       "      <td>Data Engineer (DBT/Looker/BigQuery)</td>\n",
       "      <td>360Imaging</td>\n",
       "      <td>Al Jizah, Egypt</td>\n",
       "      <td>1 day ago</td>\n",
       "      <td></td>\n",
       "      <td>Duties\\nDevelop and optimize large-scale batch...</td>\n",
       "      <td>Develop and optimize large-scale batch and rea...</td>\n",
       "      <td>Full-time</td>\n",
       "      <td></td>\n",
       "      <td></td>\n",
       "      <td></td>\n",
       "    </tr>\n",
       "    <tr>\n",
       "      <th>4</th>\n",
       "      <td>Data Scientist</td>\n",
       "      <td>Envision Employment Solutions</td>\n",
       "      <td>Cairo, Cairo, Egypt</td>\n",
       "      <td>3 weeks ago</td>\n",
       "      <td></td>\n",
       "      <td>Ready and hungry for a new adventure? You are ...</td>\n",
       "      <td>After filling your online application, you wi...</td>\n",
       "      <td>Entry level</td>\n",
       "      <td>Part-time</td>\n",
       "      <td>Information Technology and Services, Computer ...</td>\n",
       "      <td>Engineering and Information Technology,</td>\n",
       "    </tr>\n",
       "  </tbody>\n",
       "</table>\n",
       "</div>"
      ],
      "text/plain": [
       "                                           job_title  \\\n",
       "0                            Insights Data Scientist   \n",
       "1                         Data Office Data Scientist   \n",
       "2  Consumer Credit Data Scientist - Jumia Pay (Fu...   \n",
       "3                Data Engineer (DBT/Looker/BigQuery)   \n",
       "4                                     Data Scientist   \n",
       "\n",
       "                         company             location posting_date  \\\n",
       "0              Dell Technologies  Cairo, Cairo, Egypt  1 month ago   \n",
       "1              Dell Technologies  Cairo, Cairo, Egypt  1 month ago   \n",
       "2                    Jumia Group  Cairo, Cairo, Egypt   3 days ago   \n",
       "3                     360Imaging      Al Jizah, Egypt    1 day ago   \n",
       "4  Envision Employment Solutions  Cairo, Cairo, Egypt  3 weeks ago   \n",
       "\n",
       "  applicants_count                                    job_description  \\\n",
       "0                   Data Scientist\\n\\nThe Office of the CTO at Del...   \n",
       "1                   Data Scientist\\n\\nThe Office of the CTO at Del...   \n",
       "2                   Jumia is a leading e-commerce platform in Afri...   \n",
       "3                   Duties\\nDevelop and optimize large-scale batch...   \n",
       "4                   Ready and hungry for a new adventure? You are ...   \n",
       "\n",
       "                                           skill_set job_seniority_level  \\\n",
       "0  Perform all the phases of a data science proje...      Not Applicable   \n",
       "1  Perform all the phases of a data science proje...      Not Applicable   \n",
       "2   Credit Default Risk Prediction  Consumer Scor...         Entry level   \n",
       "3  Develop and optimize large-scale batch and rea...           Full-time   \n",
       "4   After filling your online application, you wi...         Entry level   \n",
       "\n",
       "  employment_type                                           industry  \\\n",
       "0       Full-time  Computer Hardware, Computer Software, and Info...   \n",
       "1       Full-time  Computer Hardware, Computer Software, and Info...   \n",
       "2       Full-time  Information Technology and Services, Internet,...   \n",
       "3                                                                      \n",
       "4       Part-time  Information Technology and Services, Computer ...   \n",
       "\n",
       "                               job_function  \n",
       "0  Information Technology and Engineering,   \n",
       "1  Information Technology and Engineering,   \n",
       "2  Engineering and Information Technology,   \n",
       "3                                            \n",
       "4  Engineering and Information Technology,   "
      ]
     },
     "execution_count": 15,
     "metadata": {},
     "output_type": "execute_result"
    }
   ],
   "source": [
    "# view the df head\n",
    "data.head()"
   ]
  },
  {
   "cell_type": "code",
   "execution_count": 16,
   "id": "hairy-buffer",
   "metadata": {
    "scrolled": false
   },
   "outputs": [
    {
     "data": {
      "text/html": [
       "<div>\n",
       "<style scoped>\n",
       "    .dataframe tbody tr th:only-of-type {\n",
       "        vertical-align: middle;\n",
       "    }\n",
       "\n",
       "    .dataframe tbody tr th {\n",
       "        vertical-align: top;\n",
       "    }\n",
       "\n",
       "    .dataframe thead th {\n",
       "        text-align: right;\n",
       "    }\n",
       "</style>\n",
       "<table border=\"1\" class=\"dataframe\">\n",
       "  <thead>\n",
       "    <tr style=\"text-align: right;\">\n",
       "      <th></th>\n",
       "      <th>job_title</th>\n",
       "      <th>company</th>\n",
       "      <th>location</th>\n",
       "      <th>posting_date</th>\n",
       "      <th>applicants_count</th>\n",
       "      <th>job_description</th>\n",
       "      <th>skill_set</th>\n",
       "      <th>job_seniority_level</th>\n",
       "      <th>employment_type</th>\n",
       "      <th>industry</th>\n",
       "      <th>job_function</th>\n",
       "    </tr>\n",
       "  </thead>\n",
       "  <tbody>\n",
       "  </tbody>\n",
       "</table>\n",
       "</div>"
      ],
      "text/plain": [
       "Empty DataFrame\n",
       "Columns: [job_title, company, location, posting_date, applicants_count, job_description, skill_set, job_seniority_level, employment_type, industry, job_function]\n",
       "Index: []"
      ]
     },
     "execution_count": 16,
     "metadata": {},
     "output_type": "execute_result"
    }
   ],
   "source": [
    "# inspect duplicates\n",
    "data[data.duplicated()]"
   ]
  },
  {
   "cell_type": "code",
   "execution_count": 17,
   "id": "chicken-guide",
   "metadata": {},
   "outputs": [],
   "source": [
    "# we will asssign it to a dates variable and put it in a list and apply changes to the values as shown below\n",
    "dates=list(data['posting_date'])"
   ]
  },
  {
   "cell_type": "code",
   "execution_count": 18,
   "id": "burning-sound",
   "metadata": {
    "scrolled": true
   },
   "outputs": [
    {
     "data": {
      "text/plain": [
       "['1 month ago',\n",
       " '1 month ago',\n",
       " '3 days ago',\n",
       " '1 day ago',\n",
       " '3 weeks ago',\n",
       " '5 days ago',\n",
       " '1 week ago',\n",
       " '1 month ago',\n",
       " '3 weeks ago',\n",
       " '2 weeks ago',\n",
       " '1 month ago',\n",
       " '4 days ago',\n",
       " '1 day ago',\n",
       " '4 weeks ago',\n",
       " '1 month ago',\n",
       " '1 day ago',\n",
       " '1 week ago',\n",
       " '5 days ago',\n",
       " '1 month ago',\n",
       " '1 month ago',\n",
       " '1 week ago',\n",
       " '1 day ago',\n",
       " '2 weeks ago',\n",
       " '3 weeks ago']"
      ]
     },
     "execution_count": 18,
     "metadata": {},
     "output_type": "execute_result"
    }
   ],
   "source": [
    "# explore the job post date column\n",
    "dates"
   ]
  },
  {
   "cell_type": "code",
   "execution_count": 19,
   "id": "passive-rugby",
   "metadata": {},
   "outputs": [],
   "source": [
    "# a funtion that transforms 'x ago format' to 'datetime' format\n",
    "def date(x):\n",
    "    return dateparser.parse(x).strftime(\"%Y-%m-%d\")"
   ]
  },
  {
   "cell_type": "code",
   "execution_count": 20,
   "id": "mobile-shoot",
   "metadata": {},
   "outputs": [
    {
     "data": {
      "text/plain": [
       "'2021-08-10'"
      ]
     },
     "execution_count": 20,
     "metadata": {},
     "output_type": "execute_result"
    }
   ],
   "source": [
    "# for an example\n",
    "date('3 weeks ago')"
   ]
  },
  {
   "cell_type": "code",
   "execution_count": 21,
   "id": "impressed-boundary",
   "metadata": {},
   "outputs": [],
   "source": [
    "# apply the fnction to a dates list\n",
    "transformed_dates=list(map(date,dates))"
   ]
  },
  {
   "cell_type": "code",
   "execution_count": 22,
   "id": "treated-cedar",
   "metadata": {},
   "outputs": [
    {
     "data": {
      "text/plain": [
       "['2021-07-31',\n",
       " '2021-07-31',\n",
       " '2021-08-28',\n",
       " '2021-08-30',\n",
       " '2021-08-10',\n",
       " '2021-08-26',\n",
       " '2021-08-24',\n",
       " '2021-07-31',\n",
       " '2021-08-10',\n",
       " '2021-08-17',\n",
       " '2021-07-31',\n",
       " '2021-08-27',\n",
       " '2021-08-30',\n",
       " '2021-08-03',\n",
       " '2021-07-31',\n",
       " '2021-08-30',\n",
       " '2021-08-24',\n",
       " '2021-08-26',\n",
       " '2021-07-31',\n",
       " '2021-07-31',\n",
       " '2021-08-24',\n",
       " '2021-08-30',\n",
       " '2021-08-17',\n",
       " '2021-08-10']"
      ]
     },
     "execution_count": 22,
     "metadata": {},
     "output_type": "execute_result"
    }
   ],
   "source": [
    "# the transformed resullt\n",
    "transformed_dates"
   ]
  },
  {
   "cell_type": "code",
   "execution_count": 23,
   "id": "stretch-conditioning",
   "metadata": {},
   "outputs": [],
   "source": [
    "# replace the new dates values with the old posting_date column values in the data frame\n",
    "data['posting_date'] =np.array(transformed_dates)"
   ]
  },
  {
   "cell_type": "code",
   "execution_count": 24,
   "id": "pleasant-accuracy",
   "metadata": {},
   "outputs": [],
   "source": [
    "# transforming the posting_date datatype into 'datetime' instead of 'object'\n",
    "data['posting_date']=pd.to_datetime(data['posting_date'])"
   ]
  },
  {
   "cell_type": "code",
   "execution_count": 25,
   "id": "composite-style",
   "metadata": {
    "scrolled": true
   },
   "outputs": [
    {
     "data": {
      "text/html": [
       "<div>\n",
       "<style scoped>\n",
       "    .dataframe tbody tr th:only-of-type {\n",
       "        vertical-align: middle;\n",
       "    }\n",
       "\n",
       "    .dataframe tbody tr th {\n",
       "        vertical-align: top;\n",
       "    }\n",
       "\n",
       "    .dataframe thead th {\n",
       "        text-align: right;\n",
       "    }\n",
       "</style>\n",
       "<table border=\"1\" class=\"dataframe\">\n",
       "  <thead>\n",
       "    <tr style=\"text-align: right;\">\n",
       "      <th></th>\n",
       "      <th>job_title</th>\n",
       "      <th>company</th>\n",
       "      <th>location</th>\n",
       "      <th>posting_date</th>\n",
       "      <th>applicants_count</th>\n",
       "      <th>job_description</th>\n",
       "      <th>skill_set</th>\n",
       "      <th>job_seniority_level</th>\n",
       "      <th>employment_type</th>\n",
       "      <th>industry</th>\n",
       "      <th>job_function</th>\n",
       "    </tr>\n",
       "  </thead>\n",
       "  <tbody>\n",
       "    <tr>\n",
       "      <th>0</th>\n",
       "      <td>Insights Data Scientist</td>\n",
       "      <td>Dell Technologies</td>\n",
       "      <td>Cairo, Cairo, Egypt</td>\n",
       "      <td>2021-07-31</td>\n",
       "      <td></td>\n",
       "      <td>Data Scientist\\n\\nThe Office of the CTO at Del...</td>\n",
       "      <td>Perform all the phases of a data science proje...</td>\n",
       "      <td>Not Applicable</td>\n",
       "      <td>Full-time</td>\n",
       "      <td>Computer Hardware, Computer Software, and Info...</td>\n",
       "      <td>Information Technology and Engineering,</td>\n",
       "    </tr>\n",
       "    <tr>\n",
       "      <th>1</th>\n",
       "      <td>Data Office Data Scientist</td>\n",
       "      <td>Dell Technologies</td>\n",
       "      <td>Cairo, Cairo, Egypt</td>\n",
       "      <td>2021-07-31</td>\n",
       "      <td></td>\n",
       "      <td>Data Scientist\\n\\nThe Office of the CTO at Del...</td>\n",
       "      <td>Perform all the phases of a data science proje...</td>\n",
       "      <td>Not Applicable</td>\n",
       "      <td>Full-time</td>\n",
       "      <td>Computer Hardware, Computer Software, and Info...</td>\n",
       "      <td>Information Technology and Engineering,</td>\n",
       "    </tr>\n",
       "    <tr>\n",
       "      <th>2</th>\n",
       "      <td>Consumer Credit Data Scientist - Jumia Pay (Fu...</td>\n",
       "      <td>Jumia Group</td>\n",
       "      <td>Cairo, Cairo, Egypt</td>\n",
       "      <td>2021-08-28</td>\n",
       "      <td></td>\n",
       "      <td>Jumia is a leading e-commerce platform in Afri...</td>\n",
       "      <td>Credit Default Risk Prediction  Consumer Scor...</td>\n",
       "      <td>Entry level</td>\n",
       "      <td>Full-time</td>\n",
       "      <td>Information Technology and Services, Internet,...</td>\n",
       "      <td>Engineering and Information Technology,</td>\n",
       "    </tr>\n",
       "    <tr>\n",
       "      <th>3</th>\n",
       "      <td>Data Engineer (DBT/Looker/BigQuery)</td>\n",
       "      <td>360Imaging</td>\n",
       "      <td>Al Jizah, Egypt</td>\n",
       "      <td>2021-08-30</td>\n",
       "      <td></td>\n",
       "      <td>Duties\\nDevelop and optimize large-scale batch...</td>\n",
       "      <td>Develop and optimize large-scale batch and rea...</td>\n",
       "      <td>Full-time</td>\n",
       "      <td></td>\n",
       "      <td></td>\n",
       "      <td></td>\n",
       "    </tr>\n",
       "    <tr>\n",
       "      <th>4</th>\n",
       "      <td>Data Scientist</td>\n",
       "      <td>Envision Employment Solutions</td>\n",
       "      <td>Cairo, Cairo, Egypt</td>\n",
       "      <td>2021-08-10</td>\n",
       "      <td></td>\n",
       "      <td>Ready and hungry for a new adventure? You are ...</td>\n",
       "      <td>After filling your online application, you wi...</td>\n",
       "      <td>Entry level</td>\n",
       "      <td>Part-time</td>\n",
       "      <td>Information Technology and Services, Computer ...</td>\n",
       "      <td>Engineering and Information Technology,</td>\n",
       "    </tr>\n",
       "  </tbody>\n",
       "</table>\n",
       "</div>"
      ],
      "text/plain": [
       "                                           job_title  \\\n",
       "0                            Insights Data Scientist   \n",
       "1                         Data Office Data Scientist   \n",
       "2  Consumer Credit Data Scientist - Jumia Pay (Fu...   \n",
       "3                Data Engineer (DBT/Looker/BigQuery)   \n",
       "4                                     Data Scientist   \n",
       "\n",
       "                         company             location posting_date  \\\n",
       "0              Dell Technologies  Cairo, Cairo, Egypt   2021-07-31   \n",
       "1              Dell Technologies  Cairo, Cairo, Egypt   2021-07-31   \n",
       "2                    Jumia Group  Cairo, Cairo, Egypt   2021-08-28   \n",
       "3                     360Imaging      Al Jizah, Egypt   2021-08-30   \n",
       "4  Envision Employment Solutions  Cairo, Cairo, Egypt   2021-08-10   \n",
       "\n",
       "  applicants_count                                    job_description  \\\n",
       "0                   Data Scientist\\n\\nThe Office of the CTO at Del...   \n",
       "1                   Data Scientist\\n\\nThe Office of the CTO at Del...   \n",
       "2                   Jumia is a leading e-commerce platform in Afri...   \n",
       "3                   Duties\\nDevelop and optimize large-scale batch...   \n",
       "4                   Ready and hungry for a new adventure? You are ...   \n",
       "\n",
       "                                           skill_set job_seniority_level  \\\n",
       "0  Perform all the phases of a data science proje...      Not Applicable   \n",
       "1  Perform all the phases of a data science proje...      Not Applicable   \n",
       "2   Credit Default Risk Prediction  Consumer Scor...         Entry level   \n",
       "3  Develop and optimize large-scale batch and rea...           Full-time   \n",
       "4   After filling your online application, you wi...         Entry level   \n",
       "\n",
       "  employment_type                                           industry  \\\n",
       "0       Full-time  Computer Hardware, Computer Software, and Info...   \n",
       "1       Full-time  Computer Hardware, Computer Software, and Info...   \n",
       "2       Full-time  Information Technology and Services, Internet,...   \n",
       "3                                                                      \n",
       "4       Part-time  Information Technology and Services, Computer ...   \n",
       "\n",
       "                               job_function  \n",
       "0  Information Technology and Engineering,   \n",
       "1  Information Technology and Engineering,   \n",
       "2  Engineering and Information Technology,   \n",
       "3                                            \n",
       "4  Engineering and Information Technology,   "
      ]
     },
     "execution_count": 25,
     "metadata": {},
     "output_type": "execute_result"
    }
   ],
   "source": [
    "#the final result\n",
    "data.head()"
   ]
  },
  {
   "cell_type": "code",
   "execution_count": 26,
   "id": "developed-space",
   "metadata": {},
   "outputs": [
    {
     "name": "stdout",
     "output_type": "stream",
     "text": [
      "<class 'pandas.core.frame.DataFrame'>\n",
      "RangeIndex: 24 entries, 0 to 23\n",
      "Data columns (total 11 columns):\n",
      " #   Column               Non-Null Count  Dtype         \n",
      "---  ------               --------------  -----         \n",
      " 0   job_title            24 non-null     object        \n",
      " 1   company              24 non-null     object        \n",
      " 2   location             24 non-null     object        \n",
      " 3   posting_date         24 non-null     datetime64[ns]\n",
      " 4   applicants_count     24 non-null     object        \n",
      " 5   job_description      24 non-null     object        \n",
      " 6   skill_set            24 non-null     object        \n",
      " 7   job_seniority_level  24 non-null     object        \n",
      " 8   employment_type      24 non-null     object        \n",
      " 9   industry             24 non-null     object        \n",
      " 10  job_function         24 non-null     object        \n",
      "dtypes: datetime64[ns](1), object(10)\n",
      "memory usage: 2.2+ KB\n"
     ]
    }
   ],
   "source": [
    "# inspect the output dataframe\n",
    "data.info()"
   ]
  },
  {
   "cell_type": "markdown",
   "id": "otherwise-progress",
   "metadata": {},
   "source": [
    "### Observations\n",
    "\n",
    "* The dataset contains 23 rows and 11 columns.\n",
    "* The column data types are objects.\n",
    "* There is a no duplicated row in the dataset.\n",
    "* posting_date column was in the format of 'x days ago' and a string data type which we had to amend and transform it into a \"%Y-%m-%d\" format and a datetime datatype"
   ]
  },
  {
   "cell_type": "markdown",
   "id": "liberal-toner",
   "metadata": {},
   "source": [
    "## Exploratory Data analysis"
   ]
  },
  {
   "cell_type": "code",
   "execution_count": 27,
   "id": "circular-party",
   "metadata": {
    "scrolled": true
   },
   "outputs": [
    {
     "name": "stderr",
     "output_type": "stream",
     "text": [
      "<ipython-input-27-3ca3cee4e6a5>:2: FutureWarning: Treating datetime data as categorical rather than numeric in `.describe` is deprecated and will be removed in a future version of pandas. Specify `datetime_is_numeric=True` to silence this warning and adopt the future behavior now.\n",
      "  data.describe()\n"
     ]
    },
    {
     "data": {
      "text/html": [
       "<div>\n",
       "<style scoped>\n",
       "    .dataframe tbody tr th:only-of-type {\n",
       "        vertical-align: middle;\n",
       "    }\n",
       "\n",
       "    .dataframe tbody tr th {\n",
       "        vertical-align: top;\n",
       "    }\n",
       "\n",
       "    .dataframe thead th {\n",
       "        text-align: right;\n",
       "    }\n",
       "</style>\n",
       "<table border=\"1\" class=\"dataframe\">\n",
       "  <thead>\n",
       "    <tr style=\"text-align: right;\">\n",
       "      <th></th>\n",
       "      <th>job_title</th>\n",
       "      <th>company</th>\n",
       "      <th>location</th>\n",
       "      <th>posting_date</th>\n",
       "      <th>applicants_count</th>\n",
       "      <th>job_description</th>\n",
       "      <th>skill_set</th>\n",
       "      <th>job_seniority_level</th>\n",
       "      <th>employment_type</th>\n",
       "      <th>industry</th>\n",
       "      <th>job_function</th>\n",
       "    </tr>\n",
       "  </thead>\n",
       "  <tbody>\n",
       "    <tr>\n",
       "      <th>count</th>\n",
       "      <td>24</td>\n",
       "      <td>24</td>\n",
       "      <td>24</td>\n",
       "      <td>24</td>\n",
       "      <td>24</td>\n",
       "      <td>24</td>\n",
       "      <td>24</td>\n",
       "      <td>24</td>\n",
       "      <td>24</td>\n",
       "      <td>24</td>\n",
       "      <td>24</td>\n",
       "    </tr>\n",
       "    <tr>\n",
       "      <th>unique</th>\n",
       "      <td>20</td>\n",
       "      <td>15</td>\n",
       "      <td>6</td>\n",
       "      <td>9</td>\n",
       "      <td>1</td>\n",
       "      <td>24</td>\n",
       "      <td>24</td>\n",
       "      <td>4</td>\n",
       "      <td>3</td>\n",
       "      <td>12</td>\n",
       "      <td>8</td>\n",
       "    </tr>\n",
       "    <tr>\n",
       "      <th>top</th>\n",
       "      <td>Senior Data Scientist</td>\n",
       "      <td>Dell Technologies</td>\n",
       "      <td>Cairo, Cairo, Egypt</td>\n",
       "      <td>2021-07-31 00:00:00</td>\n",
       "      <td></td>\n",
       "      <td>Data Engineer\\n\\nThe Office of the CTO at Dell...</td>\n",
       "      <td>Credit Default Risk Prediction  Consumer Scor...</td>\n",
       "      <td>Not Applicable</td>\n",
       "      <td>Full-time</td>\n",
       "      <td>Computer Hardware, Computer Software, and Info...</td>\n",
       "      <td>Information Technology,</td>\n",
       "    </tr>\n",
       "    <tr>\n",
       "      <th>freq</th>\n",
       "      <td>3</td>\n",
       "      <td>5</td>\n",
       "      <td>14</td>\n",
       "      <td>7</td>\n",
       "      <td>24</td>\n",
       "      <td>1</td>\n",
       "      <td>1</td>\n",
       "      <td>8</td>\n",
       "      <td>19</td>\n",
       "      <td>6</td>\n",
       "      <td>7</td>\n",
       "    </tr>\n",
       "    <tr>\n",
       "      <th>first</th>\n",
       "      <td>NaN</td>\n",
       "      <td>NaN</td>\n",
       "      <td>NaN</td>\n",
       "      <td>2021-07-31 00:00:00</td>\n",
       "      <td>NaN</td>\n",
       "      <td>NaN</td>\n",
       "      <td>NaN</td>\n",
       "      <td>NaN</td>\n",
       "      <td>NaN</td>\n",
       "      <td>NaN</td>\n",
       "      <td>NaN</td>\n",
       "    </tr>\n",
       "    <tr>\n",
       "      <th>last</th>\n",
       "      <td>NaN</td>\n",
       "      <td>NaN</td>\n",
       "      <td>NaN</td>\n",
       "      <td>2021-08-30 00:00:00</td>\n",
       "      <td>NaN</td>\n",
       "      <td>NaN</td>\n",
       "      <td>NaN</td>\n",
       "      <td>NaN</td>\n",
       "      <td>NaN</td>\n",
       "      <td>NaN</td>\n",
       "      <td>NaN</td>\n",
       "    </tr>\n",
       "  </tbody>\n",
       "</table>\n",
       "</div>"
      ],
      "text/plain": [
       "                    job_title            company             location  \\\n",
       "count                      24                 24                   24   \n",
       "unique                     20                 15                    6   \n",
       "top     Senior Data Scientist  Dell Technologies  Cairo, Cairo, Egypt   \n",
       "freq                        3                  5                   14   \n",
       "first                     NaN                NaN                  NaN   \n",
       "last                      NaN                NaN                  NaN   \n",
       "\n",
       "               posting_date applicants_count  \\\n",
       "count                    24               24   \n",
       "unique                    9                1   \n",
       "top     2021-07-31 00:00:00                    \n",
       "freq                      7               24   \n",
       "first   2021-07-31 00:00:00              NaN   \n",
       "last    2021-08-30 00:00:00              NaN   \n",
       "\n",
       "                                          job_description  \\\n",
       "count                                                  24   \n",
       "unique                                                 24   \n",
       "top     Data Engineer\\n\\nThe Office of the CTO at Dell...   \n",
       "freq                                                    1   \n",
       "first                                                 NaN   \n",
       "last                                                  NaN   \n",
       "\n",
       "                                                skill_set job_seniority_level  \\\n",
       "count                                                  24                  24   \n",
       "unique                                                 24                   4   \n",
       "top      Credit Default Risk Prediction  Consumer Scor...      Not Applicable   \n",
       "freq                                                    1                   8   \n",
       "first                                                 NaN                 NaN   \n",
       "last                                                  NaN                 NaN   \n",
       "\n",
       "       employment_type                                           industry  \\\n",
       "count               24                                                 24   \n",
       "unique               3                                                 12   \n",
       "top          Full-time  Computer Hardware, Computer Software, and Info...   \n",
       "freq                19                                                  6   \n",
       "first              NaN                                                NaN   \n",
       "last               NaN                                                NaN   \n",
       "\n",
       "                    job_function  \n",
       "count                         24  \n",
       "unique                         8  \n",
       "top     Information Technology,   \n",
       "freq                           7  \n",
       "first                        NaN  \n",
       "last                         NaN  "
      ]
     },
     "execution_count": 27,
     "metadata": {},
     "output_type": "execute_result"
    }
   ],
   "source": [
    "# check summary statistics\n",
    "data.describe()"
   ]
  },
  {
   "cell_type": "code",
   "execution_count": 28,
   "id": "infinite-spank",
   "metadata": {
    "scrolled": true
   },
   "outputs": [
    {
     "data": {
      "text/plain": [
       "<BarContainer object of 24 artists>"
      ]
     },
     "execution_count": 28,
     "metadata": {},
     "output_type": "execute_result"
    },
    {
     "data": {
      "image/png": "[encoded data removed]",
      "text/plain": [
       "<Figure size 1080x1080 with 1 Axes>"
      ]
     },
     "metadata": {
      "needs_background": "light"
     },
     "output_type": "display_data"
    }
   ],
   "source": [
    "# checking applicat count for each company with a bar chart\n",
    "\n",
    "plt.figure(figsize=(15,15))\n",
    "plt.bar(data['company'],data['applicants_count'])"
   ]
  },
  {
   "cell_type": "markdown",
   "id": "direct-entity",
   "metadata": {},
   "source": [
    "### which market skills are needed for a Data scientist title?"
   ]
  },
  {
   "cell_type": "code",
   "execution_count": 29,
   "id": "educated-criterion",
   "metadata": {},
   "outputs": [
    {
     "data": {
      "text/plain": [
       "0     Perform all the phases of a data science proje...\n",
       "1     Perform all the phases of a data science proje...\n",
       "2      Credit Default Risk Prediction  Consumer Scor...\n",
       "3     Develop and optimize large-scale batch and rea...\n",
       "4      After filling your online application, you wi...\n",
       "5     Manipulate and translate big data into key ins...\n",
       "6     Undertaking data collection, preprocessing and...\n",
       "7     Develop high quality, reliable and maintainabl...\n",
       "8      After filling your online application, you wi...\n",
       "9     Develop, execute, and manage&nbsp;databases, d...\n",
       "10     Deliver on Applied AI topics in Marketplace: ...\n",
       "11    Data Extraction:We will be extracting data fro...\n",
       "12    Take ownership and responsibility of data prod...\n",
       "13    Understanding business inquiries for different...\n",
       "14    Create and maintain optimal data pipeline arch...\n",
       "15    Synthesize billions of records from hundreds o...\n",
       "16    Execute all the phases of a data science proje...\n",
       "17    Design, implement and support data warehousing...\n",
       "18    Create and maintain optimal data pipeline arch...\n",
       "19    You will be responsible for technical design a...\n",
       "20                                                     \n",
       "21    Understand product value / direction and propo...\n",
       "22    Experience with SQL and PL /SQLAdvance skills ...\n",
       "23     After filling your online application, you wi...\n",
       "Name: skill_set, dtype: object"
      ]
     },
     "execution_count": 29,
     "metadata": {},
     "output_type": "execute_result"
    }
   ],
   "source": [
    "data['skill_set']"
   ]
  },
  {
   "cell_type": "code",
   "execution_count": 30,
   "id": "brutal-knight",
   "metadata": {},
   "outputs": [],
   "source": [
    "# create a csv as a reference\n",
    "data.to_csv('linkedin_jobs.csv')"
   ]
  },
  {
   "cell_type": "markdown",
   "id": "declared-discussion",
   "metadata": {},
   "source": [
    "## Part 2"
   ]
  },
  {
   "cell_type": "markdown",
   "id": "decreased-wright",
   "metadata": {},
   "source": [
    "### Extracting Insights about skill_set using NLP "
   ]
  },
  {
   "cell_type": "code",
   "execution_count": 31,
   "id": "hairy-clearing",
   "metadata": {},
   "outputs": [],
   "source": [
    "# declare a function to prepare skil_set column for nlp\n",
    "\n",
    "def preprocess_text(text):\n",
    "    text = text.replace('\\n', ' ')\n",
    "    text = BeautifulSoup(text, 'lxml').get_text()\n",
    "    text = text.replace('/', ' ')\n",
    "    text = re.sub(r'[^a-zA-Z ^0-9]', '', text)\n",
    "    text = text.lower()\n",
    "    text = re.sub(r'(x.[0-9])', '',text)\n",
    "    return text"
   ]
  },
  {
   "cell_type": "code",
   "execution_count": 32,
   "id": "isolated-region",
   "metadata": {},
   "outputs": [],
   "source": [
    "# apply preprocessing to the desired column\n",
    "data['refined_skilss']= data.apply(lambda x: preprocess_text(x['skill_set']), axis=1)"
   ]
  },
  {
   "cell_type": "code",
   "execution_count": 33,
   "id": "refined-conditions",
   "metadata": {
    "scrolled": true
   },
   "outputs": [
    {
     "data": {
      "text/plain": [
       "0     perform all the phases of a data science proje...\n",
       "1     perform all the phases of a data science proje...\n",
       "2     credit default risk prediction  consumer scori...\n",
       "3     develop and optimize largescale batch and real...\n",
       "4     after filling your online application you will...\n",
       "5     manipulate and translate big data into key ins...\n",
       "6     undertaking data collection preprocessing and ...\n",
       "7     develop high quality reliable and maintainable...\n",
       "8     after filling your online application you will...\n",
       "9     develop execute and managedatabases data colle...\n",
       "10    deliver on applied ai topics in marketplace mu...\n",
       "11    data extractionwe will be extracting data from...\n",
       "12    take ownership and responsibility of data prod...\n",
       "13    understanding business inquiries for different...\n",
       "14    create and maintain optimal data pipeline arch...\n",
       "15    synthesize billions of records from hundreds o...\n",
       "16    execute all the phases of a data science proje...\n",
       "17    design implement and support data warehousingr...\n",
       "18    create and maintain optimal data pipeline arch...\n",
       "19    you will be responsible for technical design a...\n",
       "20                                                     \n",
       "21    understand product value   direction and propo...\n",
       "22    experience with sql and pl  sqladvance skills ...\n",
       "23    after filling your online application you will...\n",
       "Name: refined_skilss, dtype: object"
      ]
     },
     "execution_count": 33,
     "metadata": {},
     "output_type": "execute_result"
    }
   ],
   "source": [
    "# inspect the pre-processd column\n",
    "data['refined_skilss']"
   ]
  },
  {
   "cell_type": "code",
   "execution_count": 34,
   "id": "interim-mouth",
   "metadata": {},
   "outputs": [],
   "source": [
    "# Intiation of the tokenizer\n",
    "from spacy.tokenizer import Tokenizer\n",
    "from spacy.lang.en import English\n",
    "\n",
    "nlp = spacy.load(\"en_core_web_sm\")\n",
    "\n",
    "\n",
    "tokenizer = Tokenizer(nlp.vocab)\n",
    "\n",
    "\n",
    "Stop_words = nlp.Defaults.stop_words"
   ]
  },
  {
   "cell_type": "markdown",
   "id": "honey-hobby",
   "metadata": {},
   "source": [
    "[code for below text was referenced from this website](https://prrao87.github.io/blog/spacy/nlp/performance/2020/05/02/spacy-multiprocess.html#Read-in-New-York-Times-Dataset)"
   ]
  },
  {
   "cell_type": "code",
   "execution_count": 35,
   "id": "green-invalid",
   "metadata": {},
   "outputs": [],
   "source": [
    "# define lemmatizer function\n",
    "def lemmatize(text):\n",
    "    doc =nlp(text)\n",
    "    lemma_list = [str(tok.lemma_).lower() for tok in doc\n",
    "                 if tok.is_alpha and tok.text.lower() not in Stop_words]\n",
    "    return lemma_list"
   ]
  },
  {
   "cell_type": "code",
   "execution_count": 36,
   "id": "rotary-farming",
   "metadata": {},
   "outputs": [],
   "source": [
    "data['lemma']= data['refined_skilss'].apply(lemmatize)"
   ]
  },
  {
   "cell_type": "code",
   "execution_count": 37,
   "id": "mental-timer",
   "metadata": {},
   "outputs": [
    {
     "data": {
      "text/plain": [
       "\"\\ntokens = []\\n\\nfor doc in tokenizer.pipe(data['refined_skilss'], batch_size=500):\\n    \\n    doc_tokens = []\\n    for token in doc:\\n        if (token.lemma_ not in Stop_words) & (token.text != ' '):\\n            doc_tokens.append(token.lemma)\\n\\n    tokens.append(doc_tokens)\\n\\ndata['tokens'] = tokens\\n\""
      ]
     },
     "execution_count": 37,
     "metadata": {},
     "output_type": "execute_result"
    }
   ],
   "source": [
    "'''\n",
    "tokens = []\n",
    "\n",
    "for doc in tokenizer.pipe(data['refined_skilss'], batch_size=500):\n",
    "    \n",
    "    doc_tokens = []\n",
    "    for token in doc:\n",
    "        if (token.lemma_ not in Stop_words) & (token.text != ' '):\n",
    "            doc_tokens.append(token.lemma)\n",
    "\n",
    "    tokens.append(doc_tokens)\n",
    "\n",
    "data['tokens'] = tokens\n",
    "'''\n",
    "             \n"
   ]
  },
  {
   "cell_type": "code",
   "execution_count": 38,
   "id": "moved-regular",
   "metadata": {},
   "outputs": [],
   "source": [
    "# Use English stemmer.\n",
    "#from nltk.stem.snowball import SnowballStemmer\n",
    "#stemmer = SnowballStemmer(\"english\")\n",
    "#data['tokens'] = data['refined_skilss'].apply(lambda x: [stemmer.stem(x) for y in x]) # Stem every word.\n"
   ]
  },
  {
   "cell_type": "code",
   "execution_count": 39,
   "id": "inclusive-uncertainty",
   "metadata": {
    "scrolled": false
   },
   "outputs": [
    {
     "data": {
      "text/plain": [
       "0     [perform, phase, data, science, project, busin...\n",
       "1     [perform, phase, data, science, project, busin...\n",
       "2     [credit, default, risk, prediction, consumer, ...\n",
       "3     [develop, optimize, largescale, batch, realtim...\n",
       "4     [fill, online, application, receive, psychomet...\n",
       "5     [manipulate, translate, big, datum, key, insig...\n",
       "6     [undertake, data, collection, preprocessing, a...\n",
       "7     [develop, high, quality, reliable, maintainabl...\n",
       "8     [fill, online, application, receive, psychomet...\n",
       "9     [develop, execute, managedatabase, data, colle...\n",
       "10    [deliver, apply, ai, topic, marketplace, multi...\n",
       "11    [datum, extractionwe, extract, datum, thousand...\n",
       "12    [ownership, responsibility, datum, produce, da...\n",
       "13    [understand, business, inquiry, different, com...\n",
       "14    [create, maintain, optimal, datum, pipeline, a...\n",
       "15    [synthesize, billion, record, hundred, differe...\n",
       "16    [execute, phase, data, science, project, inclu...\n",
       "17    [design, implement, support, datum, warehousin...\n",
       "18    [create, maintain, optimal, datum, pipeline, a...\n",
       "19    [responsible, technical, design, implementatio...\n",
       "20                                                   []\n",
       "21    [understand, product, value, direction, propos...\n",
       "22    [experience, sql, pl, sqladvance, skill, excel...\n",
       "23    [fill, online, application, receive, psychomet...\n",
       "Name: lemma, dtype: object"
      ]
     },
     "execution_count": 39,
     "metadata": {},
     "output_type": "execute_result"
    }
   ],
   "source": [
    "data['lemma']"
   ]
  },
  {
   "cell_type": "code",
   "execution_count": 41,
   "id": "female-speaking",
   "metadata": {},
   "outputs": [
    {
     "data": {
      "text/plain": [
       "'\\nfunction to split the required skills per token\\n\\nfrom collections import Counter\\n\\n\\np = Counter(\" \".join(data[\\'lemma\\']).split()).most_common(10)\\nrslt = pd.DataFrame(p, columns=[\\'Word\\', \\'Frequency\\'])\\nprint(rslt)\\n'"
      ]
     },
     "execution_count": 41,
     "metadata": {},
     "output_type": "execute_result"
    }
   ],
   "source": [
    "'''\n",
    "function to split the required skills per token\n",
    "\n",
    "from collections import Counter\n",
    "\n",
    "\n",
    "p = Counter(\" \".join(data['lemma']).split()).most_common(10)\n",
    "rslt = pd.DataFrame(p, columns=['Word', 'Frequency'])\n",
    "print(rslt)\n",
    "'''\n"
   ]
  }
 ],
 "metadata": {
  "kernelspec": {
   "display_name": "Python 3",
   "language": "python",
   "name": "python3"
  },
  "language_info": {
   "codemirror_mode": {
    "name": "ipython",
    "version": 3
   },
   "file_extension": ".py",
   "mimetype": "text/x-python",
   "name": "python",
   "nbconvert_exporter": "python",
   "pygments_lexer": "ipython3",
   "version": "3.8.8"
  }
 },
 "nbformat": 4,
 "nbformat_minor": 5
}
